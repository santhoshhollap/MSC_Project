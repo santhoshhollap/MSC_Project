{
  "nbformat": 4,
  "nbformat_minor": 0,
  "metadata": {
    "colab": {
      "provenance": [],
      "collapsed_sections": []
    },
    "kernelspec": {
      "name": "python3",
      "display_name": "Python 3"
    },
    "language_info": {
      "name": "python"
    }
  },
  "cells": [
    {
      "cell_type": "code",
      "execution_count": 1,
      "metadata": {
        "colab": {
          "base_uri": "https://localhost:8080/"
        },
        "id": "g2tzyC_DLuwD",
        "outputId": "f61e4d6d-ae54-4106-98af-3e97fa824129"
      },
      "outputs": [
        {
          "output_type": "stream",
          "name": "stdout",
          "text": [
            "Mounted at /content/drive\n"
          ]
        }
      ],
      "source": [
        "from google.colab import drive\n",
        "drive.mount('/content/drive')"
      ]
    },
    {
      "cell_type": "code",
      "source": [
        "%cd /content/drive/MyDrive/Msc_Test/ACDC_Sample_Data"
      ],
      "metadata": {
        "colab": {
          "base_uri": "https://localhost:8080/"
        },
        "id": "plBd-nmoL1eE",
        "outputId": "79127235-0cb8-45dd-f239-2e646f588451"
      },
      "execution_count": 2,
      "outputs": [
        {
          "output_type": "stream",
          "name": "stdout",
          "text": [
            "/content/drive/MyDrive/Msc_Test/ACDC_Sample_Data\n"
          ]
        }
      ]
    },
    {
      "cell_type": "code",
      "source": [
        "#Viewing distorition"
      ],
      "metadata": {
        "id": "aSLp1gw0L7qI"
      },
      "execution_count": 3,
      "outputs": []
    },
    {
      "cell_type": "code",
      "source": [
        "import cv2\n",
        "import sys\n",
        "import os\n",
        "import numpy as np\n",
        "import matplotlib.pyplot as plt\n",
        "import imutils\n",
        "import random\n",
        "\n",
        "input_path = \"/content/drive/MyDrive/mri/Sample_input\"\n",
        "output_path = \"/content/drive/MyDrive/mri/final_test\"\n",
        "\n",
        "images = os.listdir(input_path)\n",
        "print(images)\n",
        "for image in images:\n",
        "\tif image.endswith(\"view.png\"):\n",
        "\t\tprint(\"working on files\",image)\n",
        "\t\timage1 = cv2.imread(os.path.join(input_path,image))\n",
        "\t\timage1 = cv2.cvtColor(image1,cv2.COLOR_BGR2GRAY)\n",
        "\t\timage2 = np.zeros((256,256))\n",
        "\t\th,w = image2.shape\n",
        "\t\tnum1 = random.randint(0, 3)\n",
        "\t\tarea = random.randint(0, 20)\n",
        "\n",
        "\t\tif num1 == 0: #crop left\n",
        "\t\t\timage2[:,0:w-area] = image1[:,area:]\n",
        "\t\telif num1 == 1: #crop bottom\n",
        "\t\t\timage2[area:,:] = image1[0:h-area,:]\n",
        "\t\telif num1 == 2: #crop right\n",
        "\t\t\timage2[:,area:] = image1[:,0:w-area]\n",
        "\t\telif num1 == 3: #crop top\n",
        "\t\t\timage2[0:h-area,:] = image1[area:,:]\n",
        "\n",
        "\t\tcv2.imwrite(os.path.join(output_path,image),image2)"
      ],
      "metadata": {
        "colab": {
          "base_uri": "https://localhost:8080/"
        },
        "id": "NGB7BsERNE6r",
        "outputId": "af955ba9-44f8-4a1b-e8d3-ee6acacf9d55"
      },
      "execution_count": 7,
      "outputs": [
        {
          "output_type": "stream",
          "name": "stdout",
          "text": [
            "['patient001_frame01_2_lessghosting.png', 'patient001_frame01_2_motion.png', 'patient001_frame01_2_view.png', 'patient001_frame01_2_motionGhosting.png', '.DS_Store', 'patient001_frame01_2_moreghosting.png', 'patient001_frame01_2_missing.png']\n",
            "working on files\n"
          ]
        }
      ]
    },
    {
      "cell_type": "code",
      "source": [
        "#Ghosting and motion"
      ],
      "metadata": {
        "id": "HxKknqmJOR0T"
      },
      "execution_count": null,
      "outputs": []
    },
    {
      "cell_type": "code",
      "source": [
        "import cv2\n",
        "import sys\n",
        "import os\n",
        "import numpy as np\n",
        "import matplotlib.pyplot as plt\n",
        "import imutils\n",
        "\n",
        "input_path = \"/content/drive/MyDrive/mri/Sample_input\"\n",
        "output_path = \"/content/drive/MyDrive/mri/final_test\"\n",
        "\n",
        "def calculate_2dft(input):\n",
        "\tft = np.fft.fft2(input)\n",
        "\treturn np.fft.fftshift(ft)\n",
        "\n",
        "def calculate_2dift(input):\n",
        "\tift = np.fft.ifft2(input)\n",
        "\treturn ift\n",
        "\n",
        "images = os.listdir(input_path)\n",
        "for image in images:\n",
        "\tif image.endswith(\"motionGhosting.png\"):\n",
        "\t\timage1 = cv2.imread(os.path.join(input_path,image))\n",
        "\t\timage1 = cv2.cvtColor(image1,cv2.COLOR_BGR2GRAY)\n",
        "\t\th,w = image1.shape\n",
        "\t\tdimw = int(w/2)\n",
        "\t\tdimh = int(h/2)\n",
        "\t\timage2 = np.zeros(image1.shape,dtype=\"uint8\")\n",
        "\t\timage2[0:h-10,:] = image1[10:,:]\n",
        "\t\timage3 = np.zeros(image1.shape,dtype=\"uint8\")\n",
        "\t\timage3[10:,:] = image1[0:h-10,:]\n",
        "\t\timg3 = cv2.addWeighted(src1=image1[:,0:dimw], alpha=0.85, src2=image2[:,0:dimw], beta=0.15, gamma=0.0)\n",
        "\t\timg3 = cv2.addWeighted(src1=img3, alpha=0.85, src2=image3[:,0:dimw], beta=0.15, gamma=0.0)\n",
        "\t\timage1[:,0:dimw] = img3\n",
        "\n",
        "\t\timage2 = image1.copy()\n",
        "\t\th,w = image1.shape\n",
        "\t\tmidh = int(h/2)\n",
        "\t\tmidw = int(w/2)\n",
        "\t\timage1 = imutils.rotate(image1, -1)\n",
        "\t\timage2 = imutils.rotate(image2, +1)\n",
        "\t\tft1 = calculate_2dft(image1)\n",
        "\t\tft2 = calculate_2dft(image2)\n",
        "\t\tfinal = np.zeros(ft1.shape,dtype=\"complex128\")\n",
        "\t\tfinal[0:midh,0:midw] = ft1[0:midh,0:midw]\n",
        "\t\tfinal[midh:,midw:] = ft1[midh:,midw:]\n",
        "\t\tfinal[0:midh,midw:] = ft2[0:midh,midw:]\n",
        "\t\tfinal[midh:,0:midw] = ft2[midh:,0:midw]\n",
        "\t\tift = calculate_2dift(final)\n",
        "\t\trecon = (abs(ift))\n",
        "\t\tcv2.imwrite(os.path.join(output_path,image),recon)\n",
        "\n"
      ],
      "metadata": {
        "id": "XnA8nCGSOWKJ"
      },
      "execution_count": 8,
      "outputs": []
    },
    {
      "cell_type": "code",
      "source": [
        "# motion"
      ],
      "metadata": {
        "id": "Mky_epvyPYCQ"
      },
      "execution_count": null,
      "outputs": []
    },
    {
      "cell_type": "code",
      "source": [
        "import cv2\n",
        "import sys\n",
        "import os\n",
        "import numpy as np\n",
        "import matplotlib.pyplot as plt\n",
        "import imutils\n",
        "\n",
        "input_path = \"/content/drive/MyDrive/mri/Sample_input\"\n",
        "output_path = \"/content/drive/MyDrive/mri/final_test\"\n",
        "\n",
        "def calculate_2dft(input):\n",
        "\tft = np.fft.fft2(input)\n",
        "\treturn np.fft.fftshift(ft)\n",
        "\n",
        "def calculate_2dift(input):\n",
        "\tift = np.fft.ifft2(input)\n",
        "\treturn ift\n",
        "\n",
        "images = os.listdir(input_path)\n",
        "for image in images:\n",
        "\tif image.endswith(\"motion.png\"):\n",
        "\t\timage1 = cv2.imread(os.path.join(input_path,image))\n",
        "\t\timage1 = cv2.cvtColor(image1,cv2.COLOR_BGR2GRAY)\n",
        "\t\timage2 = image1.copy()\n",
        "\t\th,w = image1.shape\n",
        "\t\tmidh = int(h/2)\n",
        "\t\tmidw = int(w/2)\n",
        "\t\timage1 = imutils.rotate(image1, -3)\n",
        "\t\timage2 = imutils.rotate(image2, +3)\n",
        "\t\tft1 = calculate_2dft(image1)\n",
        "\t\tft2 = calculate_2dft(image2)\n",
        "\t\tfinal = np.zeros(ft1.shape,dtype=\"complex128\")\n",
        "\t\tfinal[0:midh,0:midw] = ft1[0:midh,0:midw]\n",
        "\t\tfinal[midh:,midw:] = ft1[midh:,midw:]\n",
        "\t\tfinal[0:midh,midw:] = ft2[0:midh,midw:]\n",
        "\t\tfinal[midh:,0:midw] = ft2[midh:,0:midw]\n",
        "\t\tift = calculate_2dift(final)\n",
        "\t\trecon = (abs(ift))\n",
        "\t\tcv2.imwrite(os.path.join(output_path,image),recon)\n",
        "\n"
      ],
      "metadata": {
        "id": "k0-AQP57PbNW"
      },
      "execution_count": 9,
      "outputs": []
    },
    {
      "cell_type": "code",
      "source": [
        "# missing patch"
      ],
      "metadata": {
        "id": "Krn59LT3PzGx"
      },
      "execution_count": null,
      "outputs": []
    },
    {
      "cell_type": "code",
      "source": [
        "\n",
        "import cv2\n",
        "import sys\n",
        "import os\n",
        "import numpy as np\n",
        "import matplotlib.pyplot as plt\n",
        "import imutils\n",
        "import random\n",
        "\n",
        "input_path = \"/content/drive/MyDrive/mri/Sample_input\"\n",
        "output_path = \"/content/drive/MyDrive/mri/final_test\"\n",
        "\n",
        "images = os.listdir(input_path)\n",
        "for image in images:\n",
        "\tif image.endswith(\"missing.png\"):\n",
        "\t\timage1 = cv2.imread(os.path.join(input_path,image))\n",
        "\t\timage1 = cv2.cvtColor(image1,cv2.COLOR_BGR2GRAY)\n",
        "\t\timage1[110:120,110:120] = 0\n",
        "\t\timage1[80:90,100:110] = 0\n",
        "\t\timage1[40:50,200:210] = 0\n",
        "\t\tcv2.imwrite(os.path.join(output_path,image),image1)"
      ],
      "metadata": {
        "id": "yki7dBnDP1Vu"
      },
      "execution_count": 10,
      "outputs": []
    },
    {
      "cell_type": "code",
      "source": [
        "#less ghosting"
      ],
      "metadata": {
        "id": "aqapLSg2QBXg"
      },
      "execution_count": null,
      "outputs": []
    },
    {
      "cell_type": "code",
      "source": [
        "\n",
        "import cv2\n",
        "import sys\n",
        "import os\n",
        "import numpy as np\n",
        "import matplotlib.pyplot as plt\n",
        "\n",
        "input_path = \"/content/drive/MyDrive/mri/Sample_input\"\n",
        "output_path = \"/content/drive/MyDrive/mri/final_test\"\n",
        "\n",
        "images = os.listdir(input_path)\n",
        "for image in images:\n",
        "\tif image.endswith(\"lessghosting.png\"):\n",
        "\t\timage1 = cv2.imread(os.path.join(input_path,image))\n",
        "\t\timage1 = cv2.cvtColor(image1,cv2.COLOR_BGR2GRAY)\n",
        "\t\th,w = image1.shape\n",
        "\t\timage2 = np.zeros(image1.shape,dtype=\"uint8\")\n",
        "\t\timage2[0:h-20,:] = image1[20:,:]\n",
        "\t\timage3 = np.zeros(image1.shape,dtype=\"uint8\")\n",
        "\t\timage3[20:,:] = image1[0:h-20,:]\n",
        "\t\timg3 = cv2.addWeighted(src1=image1, alpha=0.80, src2=image2, beta=0.20, gamma=0.0)\n",
        "\t\timg3 = cv2.addWeighted(src1=img3, alpha=0.80, src2=image3, beta=0.20, gamma=0.0)\n",
        "\t\tcv2.imwrite(os.path.join(output_path,image),img3)"
      ],
      "metadata": {
        "id": "SdCMv0oMQF_n"
      },
      "execution_count": 11,
      "outputs": []
    },
    {
      "cell_type": "code",
      "source": [
        "# more ghosting"
      ],
      "metadata": {
        "id": "223PuGJVQRO3"
      },
      "execution_count": null,
      "outputs": []
    },
    {
      "cell_type": "code",
      "source": [
        "\n",
        "import cv2\n",
        "import sys\n",
        "import os\n",
        "import numpy as np\n",
        "import matplotlib.pyplot as plt\n",
        "\n",
        "input_path = \"/content/drive/MyDrive/mri/Sample_input\"\n",
        "output_path = \"/content/drive/MyDrive/mri/final_test\"\n",
        "\n",
        "images = os.listdir(input_path)\n",
        "for image in images:\n",
        "\tif image.endswith(\"moreghosting.png\"):\n",
        "\t\timage1 = cv2.imread(os.path.join(input_path,image))\n",
        "\t\timage1 = cv2.cvtColor(image1,cv2.COLOR_BGR2GRAY)\n",
        "\t\timage2 = np.zeros(image1.shape,dtype=\"uint8\")\n",
        "\t\timage3 = np.zeros(image1.shape,dtype=\"uint8\")\n",
        "\t\th,w = image1.shape\n",
        "\t\tdimh = int(h/2)\n",
        "\t\timage2[0:dimh,:] = image1[dimh:,:]\n",
        "\t\timage3[dimh:,:] = image1[0:dimh,:]\n",
        "\t\timg3 = cv2.addWeighted(src1=image1, alpha=0.80, src2=image2, beta=0.20, gamma=0.0)\n",
        "\t\timg3 = cv2.addWeighted(src1=img3, alpha=0.80, src2=image3, beta=0.20, gamma=0.0)\n",
        "\t\tcv2.imwrite(os.path.join(output_path,image),img3)\n"
      ],
      "metadata": {
        "id": "NdNRyLuyQTN8"
      },
      "execution_count": 12,
      "outputs": []
    }
  ]
}