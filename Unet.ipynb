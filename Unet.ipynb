{
  "nbformat": 4,
  "nbformat_minor": 0,
  "metadata": {
    "colab": {
      "provenance": [],
      "collapsed_sections": []
    },
    "kernelspec": {
      "name": "python3",
      "display_name": "Python 3"
    },
    "language_info": {
      "name": "python"
    },
    "accelerator": "GPU",
    "gpuClass": "standard"
  },
  "cells": [
    {
      "cell_type": "code",
      "source": [
        "from google.colab import drive\n",
        "drive.mount('/content/drive')"
      ],
      "metadata": {
        "colab": {
          "base_uri": "https://localhost:8080/"
        },
        "id": "wUtD1qz_8R8E",
        "outputId": "669ee64c-cf8a-42f5-b7e5-ed3b41456efd"
      },
      "execution_count": 2,
      "outputs": [
        {
          "output_type": "stream",
          "name": "stdout",
          "text": [
            "Mounted at /content/drive\n"
          ]
        }
      ]
    },
    {
      "cell_type": "code",
      "source": [
        "%cd /content/drive/MyDrive/MRI/Unet_traditional"
      ],
      "metadata": {
        "colab": {
          "base_uri": "https://localhost:8080/"
        },
        "id": "3SGmI-1p8hjQ",
        "outputId": "607991ef-b0f1-4cc9-f670-5d1fed96eab3"
      },
      "execution_count": 3,
      "outputs": [
        {
          "output_type": "stream",
          "name": "stdout",
          "text": [
            "/content/drive/MyDrive/MRI/Unet_traditional\n"
          ]
        }
      ]
    },
    {
      "cell_type": "code",
      "source": [
        "!python3 main.py"
      ],
      "metadata": {
        "colab": {
          "base_uri": "https://localhost:8080/"
        },
        "id": "mMnnnP8akVtD",
        "outputId": "4dc4e68d-20ad-44f7-de6a-5067a8124249"
      },
      "execution_count": 9,
      "outputs": [
        {
          "output_type": "stream",
          "name": "stdout",
          "text": [
            "loading model parameters from  models/unettrainval.pt\n",
            "patient001_frame01_2_motionGhosting.png\n",
            "(256, 1280)\n",
            "patient001_frame01_2_motion.png\n",
            "(256, 1280)\n",
            "patient001_frame01_2_moreghosting.png\n",
            "(256, 1280)\n",
            "patient001_frame01_2_lessghosting.png\n",
            "(256, 1280)\n"
          ]
        }
      ]
    }
  ]
}